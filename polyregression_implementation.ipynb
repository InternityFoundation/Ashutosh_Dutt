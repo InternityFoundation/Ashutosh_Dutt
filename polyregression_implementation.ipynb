{
 "cells": [
  {
   "cell_type": "code",
   "execution_count": 3,
   "metadata": {},
   "outputs": [
    {
     "name": "stdout",
     "output_type": "stream",
     "text": [
      "   Rooms  Bathroom  Landsize  Lattitude  Longtitude\n",
      "1      2       1.0     156.0   -37.8079    144.9934\n",
      "2      3       2.0     134.0   -37.8093    144.9944\n",
      "4      4       1.0     120.0   -37.8072    144.9941\n",
      "6      3       2.0     245.0   -37.8024    144.9993\n",
      "7      2       1.0     256.0   -37.8060    144.9954\n",
      "error in the regression model is : 362041.00809098285\n"
     ]
    }
   ],
   "source": [
    "import pandas as pd\n",
    "from sklearn.metrics import mean_absolute_error as mae# : for evaluation of maodel\n",
    "from sklearn.preprocessing import PolynomialFeatures\n",
    "from sklearn.linear_model import LinearRegression\n",
    "from sklearn.model_selection import train_test_split as tts\n",
    "data= pd.read_csv('melb_data.csv')\n",
    "#print(data.describe()) to just get a confirmation and overview of loaded data\n",
    "#print(data.columns) : to get look on columns in data set\n",
    "data= data.dropna(axis=0) #:to drop missing values\n",
    "\n",
    "\n",
    "\"\"\"choosing features for predictions\"\"\"\n",
    "y= data.Price  #: choosing output features\n",
    "input_feature=['Rooms', 'Bathroom', 'Landsize', 'Lattitude', 'Longtitude']\n",
    "X= data[input_feature]\n",
    "#print(X.head()): to check if data is loaded or not\n",
    "\n",
    "\n",
    "'''Splitting the data to get more accurate model'''\n",
    "from sklearn.model_selection import train_test_split as tts\n",
    "train_X,test_X,train_y,test_y= tts(X,y,random_state=0)\n",
    "print(X.head())\n",
    "\n",
    "model = PolynomialFeatures(degree = 4)\n",
    "train_X=model.fit_transform(train_X)\n",
    "model.fit(train_X, train_y)\n",
    "lr= LinearRegression()\n",
    "lr.fit(train_X, train_y)\n",
    "error= mae(test_y,lr.predict(model.fit_transform(test_X)))\n",
    "print(\"error in the regression model is :\",error)"
   ]
  },
  {
   "cell_type": "code",
   "execution_count": null,
   "metadata": {},
   "outputs": [],
   "source": []
  }
 ],
 "metadata": {
  "kernelspec": {
   "display_name": "Python 3",
   "language": "python",
   "name": "python3"
  },
  "language_info": {
   "codemirror_mode": {
    "name": "ipython",
    "version": 3
   },
   "file_extension": ".py",
   "mimetype": "text/x-python",
   "name": "python",
   "nbconvert_exporter": "python",
   "pygments_lexer": "ipython3",
   "version": "3.7.0"
  }
 },
 "nbformat": 4,
 "nbformat_minor": 2
}
